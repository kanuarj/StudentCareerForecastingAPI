{
 "cells": [
  {
   "cell_type": "code",
   "execution_count": 1,
   "id": "offensive-apache",
   "metadata": {},
   "outputs": [],
   "source": [
    "import pandas as pd\n",
    "df = pd.read_csv('./../Datasets/placement.csv')"
   ]
  },
  {
   "cell_type": "code",
   "execution_count": 2,
   "id": "compressed-strike",
   "metadata": {},
   "outputs": [
    {
     "data": {
      "text/html": [
       "<div>\n",
       "<style scoped>\n",
       "    .dataframe tbody tr th:only-of-type {\n",
       "        vertical-align: middle;\n",
       "    }\n",
       "\n",
       "    .dataframe tbody tr th {\n",
       "        vertical-align: top;\n",
       "    }\n",
       "\n",
       "    .dataframe thead th {\n",
       "        text-align: right;\n",
       "    }\n",
       "</style>\n",
       "<table border=\"1\" class=\"dataframe\">\n",
       "  <thead>\n",
       "    <tr style=\"text-align: right;\">\n",
       "      <th></th>\n",
       "      <th>Company</th>\n",
       "      <th>Position</th>\n",
       "      <th>.NET</th>\n",
       "      <th>C</th>\n",
       "      <th>C++</th>\n",
       "      <th>Python</th>\n",
       "      <th>Java</th>\n",
       "      <th>SQL</th>\n",
       "      <th>HTML</th>\n",
       "      <th>PHP</th>\n",
       "      <th>Javascript</th>\n",
       "      <th>Data Science</th>\n",
       "      <th>Android</th>\n",
       "      <th>Location</th>\n",
       "      <th>CGPA</th>\n",
       "      <th>CTC</th>\n",
       "      <th>Backlogs</th>\n",
       "    </tr>\n",
       "  </thead>\n",
       "  <tbody>\n",
       "    <tr>\n",
       "      <th>0</th>\n",
       "      <td>Konnect Insights</td>\n",
       "      <td>Software Developer</td>\n",
       "      <td>1</td>\n",
       "      <td>0</td>\n",
       "      <td>0</td>\n",
       "      <td>0</td>\n",
       "      <td>0</td>\n",
       "      <td>0</td>\n",
       "      <td>0</td>\n",
       "      <td>0</td>\n",
       "      <td>0</td>\n",
       "      <td>0</td>\n",
       "      <td>0</td>\n",
       "      <td>Mumbai</td>\n",
       "      <td>6.0</td>\n",
       "      <td>2.4</td>\n",
       "      <td>0</td>\n",
       "    </tr>\n",
       "    <tr>\n",
       "      <th>1</th>\n",
       "      <td>Evision Technoserve</td>\n",
       "      <td>Network Engineer</td>\n",
       "      <td>0</td>\n",
       "      <td>1</td>\n",
       "      <td>0</td>\n",
       "      <td>0</td>\n",
       "      <td>0</td>\n",
       "      <td>0</td>\n",
       "      <td>0</td>\n",
       "      <td>0</td>\n",
       "      <td>0</td>\n",
       "      <td>0</td>\n",
       "      <td>0</td>\n",
       "      <td>Mumbai</td>\n",
       "      <td>6.0</td>\n",
       "      <td>2.2</td>\n",
       "      <td>1</td>\n",
       "    </tr>\n",
       "    <tr>\n",
       "      <th>2</th>\n",
       "      <td>3D Mines</td>\n",
       "      <td>Software Developer</td>\n",
       "      <td>1</td>\n",
       "      <td>0</td>\n",
       "      <td>0</td>\n",
       "      <td>0</td>\n",
       "      <td>0</td>\n",
       "      <td>0</td>\n",
       "      <td>0</td>\n",
       "      <td>0</td>\n",
       "      <td>0</td>\n",
       "      <td>0</td>\n",
       "      <td>0</td>\n",
       "      <td>Mumbai</td>\n",
       "      <td>0.0</td>\n",
       "      <td>2.0</td>\n",
       "      <td>1</td>\n",
       "    </tr>\n",
       "    <tr>\n",
       "      <th>3</th>\n",
       "      <td>PicoStone</td>\n",
       "      <td>Software Developer</td>\n",
       "      <td>0</td>\n",
       "      <td>1</td>\n",
       "      <td>1</td>\n",
       "      <td>0</td>\n",
       "      <td>0</td>\n",
       "      <td>0</td>\n",
       "      <td>0</td>\n",
       "      <td>0</td>\n",
       "      <td>0</td>\n",
       "      <td>0</td>\n",
       "      <td>0</td>\n",
       "      <td>Mumbai</td>\n",
       "      <td>6.5</td>\n",
       "      <td>3.5</td>\n",
       "      <td>0</td>\n",
       "    </tr>\n",
       "    <tr>\n",
       "      <th>4</th>\n",
       "      <td>BTS</td>\n",
       "      <td>Software Developer</td>\n",
       "      <td>0</td>\n",
       "      <td>0</td>\n",
       "      <td>0</td>\n",
       "      <td>0</td>\n",
       "      <td>0</td>\n",
       "      <td>1</td>\n",
       "      <td>1</td>\n",
       "      <td>0</td>\n",
       "      <td>1</td>\n",
       "      <td>0</td>\n",
       "      <td>0</td>\n",
       "      <td>Mumbai</td>\n",
       "      <td>7.0</td>\n",
       "      <td>4.2</td>\n",
       "      <td>0</td>\n",
       "    </tr>\n",
       "  </tbody>\n",
       "</table>\n",
       "</div>"
      ],
      "text/plain": [
       "               Company            Position  .NET  C  C++  Python  Java  SQL  \\\n",
       "0     Konnect Insights  Software Developer     1  0    0       0     0    0   \n",
       "1  Evision Technoserve    Network Engineer     0  1    0       0     0    0   \n",
       "2            3D Mines   Software Developer     1  0    0       0     0    0   \n",
       "3            PicoStone  Software Developer     0  1    1       0     0    0   \n",
       "4                  BTS  Software Developer     0  0    0       0     0    1   \n",
       "\n",
       "   HTML  PHP  Javascript  Data Science  Android Location  CGPA  CTC  Backlogs  \n",
       "0     0    0           0             0        0   Mumbai   6.0  2.4         0  \n",
       "1     0    0           0             0        0   Mumbai   6.0  2.2         1  \n",
       "2     0    0           0             0        0   Mumbai   0.0  2.0         1  \n",
       "3     0    0           0             0        0   Mumbai   6.5  3.5         0  \n",
       "4     1    0           1             0        0   Mumbai   7.0  4.2         0  "
      ]
     },
     "execution_count": 2,
     "metadata": {},
     "output_type": "execute_result"
    }
   ],
   "source": [
    "df.head()"
   ]
  },
  {
   "cell_type": "code",
   "execution_count": 3,
   "id": "three-haven",
   "metadata": {},
   "outputs": [
    {
     "data": {
      "text/plain": [
       "(73, 17)"
      ]
     },
     "execution_count": 3,
     "metadata": {},
     "output_type": "execute_result"
    }
   ],
   "source": [
    "df.shape"
   ]
  },
  {
   "cell_type": "code",
   "execution_count": 4,
   "id": "ceramic-neighbor",
   "metadata": {},
   "outputs": [
    {
     "data": {
      "text/plain": [
       "array(['Software Developer', 'Network Engineer', 'Web Developer',\n",
       "       'Android Developer', 'SQL Developer', 'Data Scientist'],\n",
       "      dtype=object)"
      ]
     },
     "execution_count": 4,
     "metadata": {},
     "output_type": "execute_result"
    }
   ],
   "source": [
    "df.Position.unique()"
   ]
  },
  {
   "cell_type": "code",
   "execution_count": 5,
   "id": "intellectual-problem",
   "metadata": {},
   "outputs": [],
   "source": [
    "from sklearn.preprocessing import LabelEncoder\n",
    "le = LabelEncoder()\n",
    "Designation = le.fit_transform(df.Position)"
   ]
  },
  {
   "cell_type": "code",
   "execution_count": 6,
   "id": "thousand-palestinian",
   "metadata": {},
   "outputs": [],
   "source": [
    "df['Designation'] = Designation"
   ]
  },
  {
   "cell_type": "code",
   "execution_count": 7,
   "id": "specified-straight",
   "metadata": {},
   "outputs": [
    {
     "data": {
      "text/html": [
       "<div>\n",
       "<style scoped>\n",
       "    .dataframe tbody tr th:only-of-type {\n",
       "        vertical-align: middle;\n",
       "    }\n",
       "\n",
       "    .dataframe tbody tr th {\n",
       "        vertical-align: top;\n",
       "    }\n",
       "\n",
       "    .dataframe thead th {\n",
       "        text-align: right;\n",
       "    }\n",
       "</style>\n",
       "<table border=\"1\" class=\"dataframe\">\n",
       "  <thead>\n",
       "    <tr style=\"text-align: right;\">\n",
       "      <th></th>\n",
       "      <th>Company</th>\n",
       "      <th>Position</th>\n",
       "      <th>.NET</th>\n",
       "      <th>C</th>\n",
       "      <th>C++</th>\n",
       "      <th>Python</th>\n",
       "      <th>Java</th>\n",
       "      <th>SQL</th>\n",
       "      <th>HTML</th>\n",
       "      <th>PHP</th>\n",
       "      <th>Javascript</th>\n",
       "      <th>Data Science</th>\n",
       "      <th>Android</th>\n",
       "      <th>Location</th>\n",
       "      <th>CGPA</th>\n",
       "      <th>CTC</th>\n",
       "      <th>Backlogs</th>\n",
       "      <th>Designation</th>\n",
       "    </tr>\n",
       "  </thead>\n",
       "  <tbody>\n",
       "    <tr>\n",
       "      <th>0</th>\n",
       "      <td>Konnect Insights</td>\n",
       "      <td>Software Developer</td>\n",
       "      <td>1</td>\n",
       "      <td>0</td>\n",
       "      <td>0</td>\n",
       "      <td>0</td>\n",
       "      <td>0</td>\n",
       "      <td>0</td>\n",
       "      <td>0</td>\n",
       "      <td>0</td>\n",
       "      <td>0</td>\n",
       "      <td>0</td>\n",
       "      <td>0</td>\n",
       "      <td>Mumbai</td>\n",
       "      <td>6.0</td>\n",
       "      <td>2.4</td>\n",
       "      <td>0</td>\n",
       "      <td>4</td>\n",
       "    </tr>\n",
       "    <tr>\n",
       "      <th>1</th>\n",
       "      <td>Evision Technoserve</td>\n",
       "      <td>Network Engineer</td>\n",
       "      <td>0</td>\n",
       "      <td>1</td>\n",
       "      <td>0</td>\n",
       "      <td>0</td>\n",
       "      <td>0</td>\n",
       "      <td>0</td>\n",
       "      <td>0</td>\n",
       "      <td>0</td>\n",
       "      <td>0</td>\n",
       "      <td>0</td>\n",
       "      <td>0</td>\n",
       "      <td>Mumbai</td>\n",
       "      <td>6.0</td>\n",
       "      <td>2.2</td>\n",
       "      <td>1</td>\n",
       "      <td>2</td>\n",
       "    </tr>\n",
       "    <tr>\n",
       "      <th>2</th>\n",
       "      <td>3D Mines</td>\n",
       "      <td>Software Developer</td>\n",
       "      <td>1</td>\n",
       "      <td>0</td>\n",
       "      <td>0</td>\n",
       "      <td>0</td>\n",
       "      <td>0</td>\n",
       "      <td>0</td>\n",
       "      <td>0</td>\n",
       "      <td>0</td>\n",
       "      <td>0</td>\n",
       "      <td>0</td>\n",
       "      <td>0</td>\n",
       "      <td>Mumbai</td>\n",
       "      <td>0.0</td>\n",
       "      <td>2.0</td>\n",
       "      <td>1</td>\n",
       "      <td>4</td>\n",
       "    </tr>\n",
       "    <tr>\n",
       "      <th>3</th>\n",
       "      <td>PicoStone</td>\n",
       "      <td>Software Developer</td>\n",
       "      <td>0</td>\n",
       "      <td>1</td>\n",
       "      <td>1</td>\n",
       "      <td>0</td>\n",
       "      <td>0</td>\n",
       "      <td>0</td>\n",
       "      <td>0</td>\n",
       "      <td>0</td>\n",
       "      <td>0</td>\n",
       "      <td>0</td>\n",
       "      <td>0</td>\n",
       "      <td>Mumbai</td>\n",
       "      <td>6.5</td>\n",
       "      <td>3.5</td>\n",
       "      <td>0</td>\n",
       "      <td>4</td>\n",
       "    </tr>\n",
       "    <tr>\n",
       "      <th>4</th>\n",
       "      <td>BTS</td>\n",
       "      <td>Software Developer</td>\n",
       "      <td>0</td>\n",
       "      <td>0</td>\n",
       "      <td>0</td>\n",
       "      <td>0</td>\n",
       "      <td>0</td>\n",
       "      <td>1</td>\n",
       "      <td>1</td>\n",
       "      <td>0</td>\n",
       "      <td>1</td>\n",
       "      <td>0</td>\n",
       "      <td>0</td>\n",
       "      <td>Mumbai</td>\n",
       "      <td>7.0</td>\n",
       "      <td>4.2</td>\n",
       "      <td>0</td>\n",
       "      <td>4</td>\n",
       "    </tr>\n",
       "  </tbody>\n",
       "</table>\n",
       "</div>"
      ],
      "text/plain": [
       "               Company            Position  .NET  C  C++  Python  Java  SQL  \\\n",
       "0     Konnect Insights  Software Developer     1  0    0       0     0    0   \n",
       "1  Evision Technoserve    Network Engineer     0  1    0       0     0    0   \n",
       "2            3D Mines   Software Developer     1  0    0       0     0    0   \n",
       "3            PicoStone  Software Developer     0  1    1       0     0    0   \n",
       "4                  BTS  Software Developer     0  0    0       0     0    1   \n",
       "\n",
       "   HTML  PHP  Javascript  Data Science  Android Location  CGPA  CTC  Backlogs  \\\n",
       "0     0    0           0             0        0   Mumbai   6.0  2.4         0   \n",
       "1     0    0           0             0        0   Mumbai   6.0  2.2         1   \n",
       "2     0    0           0             0        0   Mumbai   0.0  2.0         1   \n",
       "3     0    0           0             0        0   Mumbai   6.5  3.5         0   \n",
       "4     1    0           1             0        0   Mumbai   7.0  4.2         0   \n",
       "\n",
       "   Designation  \n",
       "0            4  \n",
       "1            2  \n",
       "2            4  \n",
       "3            4  \n",
       "4            4  "
      ]
     },
     "execution_count": 7,
     "metadata": {},
     "output_type": "execute_result"
    }
   ],
   "source": [
    "df.head()"
   ]
  },
  {
   "cell_type": "code",
   "execution_count": 8,
   "id": "designing-manner",
   "metadata": {},
   "outputs": [
    {
     "data": {
      "text/plain": [
       "<bound method DataFrame.value_counts of               Position  Designation\n",
       "0   Software Developer            4\n",
       "1     Network Engineer            2\n",
       "2   Software Developer            4\n",
       "3   Software Developer            4\n",
       "4   Software Developer            4\n",
       "..                 ...          ...\n",
       "68       Web Developer            5\n",
       "69       Web Developer            5\n",
       "70  Software Developer            4\n",
       "71  Software Developer            4\n",
       "72  Software Developer            4\n",
       "\n",
       "[73 rows x 2 columns]>"
      ]
     },
     "execution_count": 8,
     "metadata": {},
     "output_type": "execute_result"
    }
   ],
   "source": [
    "df[['Position', 'Designation']].value_counts"
   ]
  },
  {
   "cell_type": "code",
   "execution_count": 9,
   "id": "unlikely-extent",
   "metadata": {},
   "outputs": [
    {
     "data": {
      "text/plain": [
       "array([4, 2, 5, 0, 3, 1])"
      ]
     },
     "execution_count": 9,
     "metadata": {},
     "output_type": "execute_result"
    }
   ],
   "source": [
    "df.Designation.unique()"
   ]
  },
  {
   "cell_type": "code",
   "execution_count": 10,
   "id": "academic-adaptation",
   "metadata": {},
   "outputs": [],
   "source": [
    "df[['DROID', 'DSCI', 'NWENG', 'SQLDEV', 'SDE', 'WEB']] = pd.get_dummies(df.Designation)"
   ]
  },
  {
   "cell_type": "code",
   "execution_count": 11,
   "id": "faced-player",
   "metadata": {},
   "outputs": [
    {
     "data": {
      "text/plain": [
       "Company           Konnect Insights\n",
       "Position        Software Developer\n",
       ".NET                             1\n",
       "C                                0\n",
       "C++                              0\n",
       "Python                           0\n",
       "Java                             0\n",
       "SQL                              0\n",
       "HTML                             0\n",
       "PHP                              0\n",
       "Javascript                       0\n",
       "Data Science                     0\n",
       "Android                          0\n",
       "Location                    Mumbai\n",
       "CGPA                             6\n",
       "CTC                            2.4\n",
       "Backlogs                         0\n",
       "Designation                      4\n",
       "DROID                            0\n",
       "DSCI                             0\n",
       "NWENG                            0\n",
       "SQLDEV                           0\n",
       "SDE                              1\n",
       "WEB                              0\n",
       "Name: 0, dtype: object"
      ]
     },
     "execution_count": 11,
     "metadata": {},
     "output_type": "execute_result"
    }
   ],
   "source": [
    "df.loc[0]"
   ]
  },
  {
   "cell_type": "code",
   "execution_count": 12,
   "id": "russian-affairs",
   "metadata": {},
   "outputs": [
    {
     "data": {
      "text/plain": [
       "array(['Mumbai', 'Bengaluru', 'Hyderabad', 'Delhi', 'Chennai'],\n",
       "      dtype=object)"
      ]
     },
     "execution_count": 12,
     "metadata": {},
     "output_type": "execute_result"
    }
   ],
   "source": [
    "df.Location.unique()"
   ]
  },
  {
   "cell_type": "code",
   "execution_count": 13,
   "id": "varied-floating",
   "metadata": {},
   "outputs": [],
   "source": [
    "Locations = le.fit_transform(df.Location)"
   ]
  },
  {
   "cell_type": "code",
   "execution_count": 14,
   "id": "rough-apple",
   "metadata": {},
   "outputs": [
    {
     "data": {
      "text/plain": [
       "array([4, 4, 4, 4, 4, 4, 4, 4, 4, 4, 4, 4, 4, 4, 4, 4, 4, 4, 4, 4, 4, 4,\n",
       "       0, 0, 0, 0, 0, 0, 0, 0, 0, 0, 0, 0, 0, 0, 0, 4, 0, 3, 3, 3, 3, 3,\n",
       "       3, 3, 3, 3, 3, 3, 3, 3, 3, 3, 3, 2, 2, 2, 2, 2, 1, 1, 1, 1, 1, 1,\n",
       "       1, 1, 1, 1, 4, 4, 4])"
      ]
     },
     "execution_count": 14,
     "metadata": {},
     "output_type": "execute_result"
    }
   ],
   "source": [
    "Locations"
   ]
  },
  {
   "cell_type": "code",
   "execution_count": 15,
   "id": "comparable-establishment",
   "metadata": {},
   "outputs": [],
   "source": [
    "df[['Bengaluru', 'Chennai', 'Delhi', 'Hyderabad', 'Mumbai']] = pd.get_dummies(df.Location)"
   ]
  },
  {
   "cell_type": "code",
   "execution_count": 16,
   "id": "streaming-excellence",
   "metadata": {},
   "outputs": [
    {
     "data": {
      "text/plain": [
       "Company           Konnect Insights\n",
       "Position        Software Developer\n",
       ".NET                             1\n",
       "C                                0\n",
       "C++                              0\n",
       "Python                           0\n",
       "Java                             0\n",
       "SQL                              0\n",
       "HTML                             0\n",
       "PHP                              0\n",
       "Javascript                       0\n",
       "Data Science                     0\n",
       "Android                          0\n",
       "Location                    Mumbai\n",
       "CGPA                             6\n",
       "CTC                            2.4\n",
       "Backlogs                         0\n",
       "Designation                      4\n",
       "DROID                            0\n",
       "DSCI                             0\n",
       "NWENG                            0\n",
       "SQLDEV                           0\n",
       "SDE                              1\n",
       "WEB                              0\n",
       "Bengaluru                        0\n",
       "Chennai                          0\n",
       "Delhi                            0\n",
       "Hyderabad                        0\n",
       "Mumbai                           1\n",
       "Name: 0, dtype: object"
      ]
     },
     "execution_count": 16,
     "metadata": {},
     "output_type": "execute_result"
    }
   ],
   "source": [
    "df.loc[0]"
   ]
  },
  {
   "cell_type": "code",
   "execution_count": 17,
   "id": "christian-stick",
   "metadata": {},
   "outputs": [],
   "source": [
    "from sklearn.ensemble import RandomForestClassifier\n",
    "model = RandomForestClassifier()"
   ]
  },
  {
   "cell_type": "code",
   "execution_count": 18,
   "id": "changing-junior",
   "metadata": {},
   "outputs": [
    {
     "data": {
      "text/plain": [
       "Index(['Company', 'Position', '.NET', 'C', 'C++', 'Python', 'Java', 'SQL',\n",
       "       'HTML', 'PHP', 'Javascript', 'Data Science', 'Android', 'Location',\n",
       "       'CGPA', 'CTC', 'Backlogs', 'Designation', 'DROID', 'DSCI', 'NWENG',\n",
       "       'SQLDEV', 'SDE', 'WEB', 'Bengaluru', 'Chennai', 'Delhi', 'Hyderabad',\n",
       "       'Mumbai'],\n",
       "      dtype='object')"
      ]
     },
     "execution_count": 18,
     "metadata": {},
     "output_type": "execute_result"
    }
   ],
   "source": [
    "df.columns"
   ]
  },
  {
   "cell_type": "code",
   "execution_count": 19,
   "id": "widespread-surveillance",
   "metadata": {},
   "outputs": [],
   "source": [
    "X_data = df[['.NET', 'C', 'C++', 'Python', 'Java', 'SQL',\n",
    "       'HTML', 'PHP', 'Javascript', 'Data Science', 'Android', 'CGPA', 'CTC', 'Backlogs',\n",
    "         'DROID', 'DSCI', 'NWENG', 'SQLDEV','SDE', 'WEB',\n",
    "       'Bengaluru', 'Chennai', 'Delhi', 'Hyderabad', 'Mumbai']]"
   ]
  },
  {
   "cell_type": "code",
   "execution_count": 20,
   "id": "biological-convert",
   "metadata": {},
   "outputs": [],
   "source": [
    "y_data = df.Company"
   ]
  },
  {
   "cell_type": "code",
   "execution_count": 21,
   "id": "ambient-print",
   "metadata": {},
   "outputs": [
    {
     "data": {
      "text/html": [
       "<div>\n",
       "<style scoped>\n",
       "    .dataframe tbody tr th:only-of-type {\n",
       "        vertical-align: middle;\n",
       "    }\n",
       "\n",
       "    .dataframe tbody tr th {\n",
       "        vertical-align: top;\n",
       "    }\n",
       "\n",
       "    .dataframe thead th {\n",
       "        text-align: right;\n",
       "    }\n",
       "</style>\n",
       "<table border=\"1\" class=\"dataframe\">\n",
       "  <thead>\n",
       "    <tr style=\"text-align: right;\">\n",
       "      <th></th>\n",
       "      <th>.NET</th>\n",
       "      <th>C</th>\n",
       "      <th>C++</th>\n",
       "      <th>Python</th>\n",
       "      <th>Java</th>\n",
       "      <th>SQL</th>\n",
       "      <th>HTML</th>\n",
       "      <th>PHP</th>\n",
       "      <th>Javascript</th>\n",
       "      <th>Data Science</th>\n",
       "      <th>...</th>\n",
       "      <th>DSCI</th>\n",
       "      <th>NWENG</th>\n",
       "      <th>SQLDEV</th>\n",
       "      <th>SDE</th>\n",
       "      <th>WEB</th>\n",
       "      <th>Bengaluru</th>\n",
       "      <th>Chennai</th>\n",
       "      <th>Delhi</th>\n",
       "      <th>Hyderabad</th>\n",
       "      <th>Mumbai</th>\n",
       "    </tr>\n",
       "  </thead>\n",
       "  <tbody>\n",
       "    <tr>\n",
       "      <th>0</th>\n",
       "      <td>1</td>\n",
       "      <td>0</td>\n",
       "      <td>0</td>\n",
       "      <td>0</td>\n",
       "      <td>0</td>\n",
       "      <td>0</td>\n",
       "      <td>0</td>\n",
       "      <td>0</td>\n",
       "      <td>0</td>\n",
       "      <td>0</td>\n",
       "      <td>...</td>\n",
       "      <td>0</td>\n",
       "      <td>0</td>\n",
       "      <td>0</td>\n",
       "      <td>1</td>\n",
       "      <td>0</td>\n",
       "      <td>0</td>\n",
       "      <td>0</td>\n",
       "      <td>0</td>\n",
       "      <td>0</td>\n",
       "      <td>1</td>\n",
       "    </tr>\n",
       "    <tr>\n",
       "      <th>1</th>\n",
       "      <td>0</td>\n",
       "      <td>1</td>\n",
       "      <td>0</td>\n",
       "      <td>0</td>\n",
       "      <td>0</td>\n",
       "      <td>0</td>\n",
       "      <td>0</td>\n",
       "      <td>0</td>\n",
       "      <td>0</td>\n",
       "      <td>0</td>\n",
       "      <td>...</td>\n",
       "      <td>0</td>\n",
       "      <td>1</td>\n",
       "      <td>0</td>\n",
       "      <td>0</td>\n",
       "      <td>0</td>\n",
       "      <td>0</td>\n",
       "      <td>0</td>\n",
       "      <td>0</td>\n",
       "      <td>0</td>\n",
       "      <td>1</td>\n",
       "    </tr>\n",
       "    <tr>\n",
       "      <th>2</th>\n",
       "      <td>1</td>\n",
       "      <td>0</td>\n",
       "      <td>0</td>\n",
       "      <td>0</td>\n",
       "      <td>0</td>\n",
       "      <td>0</td>\n",
       "      <td>0</td>\n",
       "      <td>0</td>\n",
       "      <td>0</td>\n",
       "      <td>0</td>\n",
       "      <td>...</td>\n",
       "      <td>0</td>\n",
       "      <td>0</td>\n",
       "      <td>0</td>\n",
       "      <td>1</td>\n",
       "      <td>0</td>\n",
       "      <td>0</td>\n",
       "      <td>0</td>\n",
       "      <td>0</td>\n",
       "      <td>0</td>\n",
       "      <td>1</td>\n",
       "    </tr>\n",
       "    <tr>\n",
       "      <th>3</th>\n",
       "      <td>0</td>\n",
       "      <td>1</td>\n",
       "      <td>1</td>\n",
       "      <td>0</td>\n",
       "      <td>0</td>\n",
       "      <td>0</td>\n",
       "      <td>0</td>\n",
       "      <td>0</td>\n",
       "      <td>0</td>\n",
       "      <td>0</td>\n",
       "      <td>...</td>\n",
       "      <td>0</td>\n",
       "      <td>0</td>\n",
       "      <td>0</td>\n",
       "      <td>1</td>\n",
       "      <td>0</td>\n",
       "      <td>0</td>\n",
       "      <td>0</td>\n",
       "      <td>0</td>\n",
       "      <td>0</td>\n",
       "      <td>1</td>\n",
       "    </tr>\n",
       "    <tr>\n",
       "      <th>4</th>\n",
       "      <td>0</td>\n",
       "      <td>0</td>\n",
       "      <td>0</td>\n",
       "      <td>0</td>\n",
       "      <td>0</td>\n",
       "      <td>1</td>\n",
       "      <td>1</td>\n",
       "      <td>0</td>\n",
       "      <td>1</td>\n",
       "      <td>0</td>\n",
       "      <td>...</td>\n",
       "      <td>0</td>\n",
       "      <td>0</td>\n",
       "      <td>0</td>\n",
       "      <td>1</td>\n",
       "      <td>0</td>\n",
       "      <td>0</td>\n",
       "      <td>0</td>\n",
       "      <td>0</td>\n",
       "      <td>0</td>\n",
       "      <td>1</td>\n",
       "    </tr>\n",
       "  </tbody>\n",
       "</table>\n",
       "<p>5 rows × 25 columns</p>\n",
       "</div>"
      ],
      "text/plain": [
       "   .NET  C  C++  Python  Java  SQL  HTML  PHP  Javascript  Data Science  ...  \\\n",
       "0     1  0    0       0     0    0     0    0           0             0  ...   \n",
       "1     0  1    0       0     0    0     0    0           0             0  ...   \n",
       "2     1  0    0       0     0    0     0    0           0             0  ...   \n",
       "3     0  1    1       0     0    0     0    0           0             0  ...   \n",
       "4     0  0    0       0     0    1     1    0           1             0  ...   \n",
       "\n",
       "   DSCI  NWENG  SQLDEV  SDE  WEB  Bengaluru  Chennai  Delhi  Hyderabad  Mumbai  \n",
       "0     0      0       0    1    0          0        0      0          0       1  \n",
       "1     0      1       0    0    0          0        0      0          0       1  \n",
       "2     0      0       0    1    0          0        0      0          0       1  \n",
       "3     0      0       0    1    0          0        0      0          0       1  \n",
       "4     0      0       0    1    0          0        0      0          0       1  \n",
       "\n",
       "[5 rows x 25 columns]"
      ]
     },
     "execution_count": 21,
     "metadata": {},
     "output_type": "execute_result"
    }
   ],
   "source": [
    "X_data.head()"
   ]
  },
  {
   "cell_type": "code",
   "execution_count": 22,
   "id": "dying-salvation",
   "metadata": {},
   "outputs": [
    {
     "data": {
      "text/plain": [
       "0       Konnect Insights\n",
       "1    Evision Technoserve\n",
       "2              3D Mines \n",
       "3              PicoStone\n",
       "4                    BTS\n",
       "Name: Company, dtype: object"
      ]
     },
     "execution_count": 22,
     "metadata": {},
     "output_type": "execute_result"
    }
   ],
   "source": [
    "y_data.head()"
   ]
  },
  {
   "cell_type": "code",
   "execution_count": 23,
   "id": "rental-ivory",
   "metadata": {},
   "outputs": [
    {
     "data": {
      "text/plain": [
       "RandomForestClassifier(bootstrap=True, ccp_alpha=0.0, class_weight=None,\n",
       "                       criterion='gini', max_depth=None, max_features='auto',\n",
       "                       max_leaf_nodes=None, max_samples=None,\n",
       "                       min_impurity_decrease=0.0, min_impurity_split=None,\n",
       "                       min_samples_leaf=1, min_samples_split=2,\n",
       "                       min_weight_fraction_leaf=0.0, n_estimators=100,\n",
       "                       n_jobs=None, oob_score=False, random_state=None,\n",
       "                       verbose=0, warm_start=False)"
      ]
     },
     "execution_count": 23,
     "metadata": {},
     "output_type": "execute_result"
    }
   ],
   "source": [
    "model.fit(X_data, y_data)"
   ]
  },
  {
   "cell_type": "code",
   "execution_count": 24,
   "id": "annoying-synthetic",
   "metadata": {},
   "outputs": [
    {
     "data": {
      "text/plain": [
       "1.0"
      ]
     },
     "execution_count": 24,
     "metadata": {},
     "output_type": "execute_result"
    }
   ],
   "source": [
    "model.score(X_data, y_data)"
   ]
  },
  {
   "cell_type": "code",
   "execution_count": 25,
   "id": "compressed-german",
   "metadata": {},
   "outputs": [
    {
     "data": {
      "text/plain": [
       "array(['Marmeto Pvt Ltd'], dtype=object)"
      ]
     },
     "execution_count": 25,
     "metadata": {},
     "output_type": "execute_result"
    }
   ],
   "source": [
    "model.predict([[1,0,0,0,0,0,1,1,1,0,0,7,3,0,0,1,0,0,0,0,1,0,0,0,0]])"
   ]
  },
  {
   "cell_type": "code",
   "execution_count": 26,
   "id": "human-repeat",
   "metadata": {},
   "outputs": [
    {
     "data": {
      "text/plain": [
       "array([['Marmeto Pvt Ltd', 'Web Developer', 0, 0, 0, 0, 0, 0, 1, 1, 0, 0,\n",
       "        0, 'Bengaluru', 6.0, 3.0, 0, 5, 0, 0, 0, 0, 0, 1, 1, 0, 0, 0, 0]],\n",
       "      dtype=object)"
      ]
     },
     "execution_count": 26,
     "metadata": {},
     "output_type": "execute_result"
    }
   ],
   "source": [
    "df.loc[df.Company == 'Marmeto Pvt Ltd'].values"
   ]
  },
  {
   "cell_type": "code",
   "execution_count": 27,
   "id": "intermediate-warning",
   "metadata": {},
   "outputs": [],
   "source": [
    "from joblib import dump"
   ]
  },
  {
   "cell_type": "code",
   "execution_count": 28,
   "id": "about-agency",
   "metadata": {},
   "outputs": [
    {
     "data": {
      "text/plain": [
       "['./../Models/placements.joblib']"
      ]
     },
     "execution_count": 28,
     "metadata": {},
     "output_type": "execute_result"
    }
   ],
   "source": [
    "dump(model, './../Models/placements.joblib')"
   ]
  },
  {
   "cell_type": "code",
   "execution_count": null,
   "id": "massive-commander",
   "metadata": {},
   "outputs": [],
   "source": []
  }
 ],
 "metadata": {
  "kernelspec": {
   "display_name": "Python 3",
   "language": "python",
   "name": "python3"
  },
  "language_info": {
   "codemirror_mode": {
    "name": "ipython",
    "version": 3
   },
   "file_extension": ".py",
   "mimetype": "text/x-python",
   "name": "python",
   "nbconvert_exporter": "python",
   "pygments_lexer": "ipython3",
   "version": "3.7.0"
  }
 },
 "nbformat": 4,
 "nbformat_minor": 5
}
